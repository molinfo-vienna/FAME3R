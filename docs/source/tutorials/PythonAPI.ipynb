{
 "cells": [
  {
   "cell_type": "markdown",
   "id": "3e161f6e-72c6-4b76-87cc-941fe7088a36",
   "metadata": {},
   "source": [
    "# Using the Python API"
   ]
  },
  {
   "cell_type": "markdown",
   "id": "c80ea89a-684c-4965-98e1-ec6429e88aa8",
   "metadata": {},
   "source": [
    "In this interactive Jupyter notebook, you will learn how to build a simple random forest site-of-metabolism (SOM) classifier using a synthetic dataset.  We also show how to use our utility for computing the FAME score, which is a similarity-based applicability domain score.\n",
    "\n",
    "The resulting classifier shown here will be very similar to the classifier created in the [CLI](CommandLine.ipynb) tutorial, but crucially you can use Python scripting and scikit-learn to modify the model to your liking, add new features, or use different model architectures."
   ]
  },
  {
   "cell_type": "markdown",
   "id": "cd8a421e-5345-4f31-ae5b-71d1ba313fd9",
   "metadata": {},
   "source": [
    "## Preparing the data"
   ]
  },
  {
   "cell_type": "code",
   "execution_count": null,
   "id": "6605421b-82db-47f4-829e-d6ec3034041a",
   "metadata": {},
   "outputs": [],
   "source": [
    "from ast import literal_eval\n",
    "\n",
    "from rdkit.Chem import Draw\n",
    "from rdkit.Chem.rdmolfiles import SDMolSupplier"
   ]
  },
  {
   "cell_type": "markdown",
   "id": "b64aa8c8-2021-4d32-9a3f-5581b92dd530",
   "metadata": {},
   "source": [
    "Let's start by loading the synthetic metabolism dataset. Known SOM indices stored as SDF/MOL2 molecule properties are also extracted here."
   ]
  },
  {
   "cell_type": "code",
   "execution_count": null,
   "id": "cdf52d7e-ce90-4939-ae2c-e91873b7116f",
   "metadata": {},
   "outputs": [],
   "source": [
    "molecules = [\n",
    "    mol for mol in SDMolSupplier(\"data/metatrans_autoannotated_cleaned/train.sdf\")\n",
    "]\n",
    "soms = [literal_eval(mol.GetProp(\"soms\")) for mol in molecules]"
   ]
  },
  {
   "cell_type": "markdown",
   "id": "c439499c-e7e3-4904-b186-da0ef3569531",
   "metadata": {},
   "source": [
    "We can take a quick look at some of the molecules from the dataset, with known SOMs being highlighted in red."
   ]
  },
  {
   "cell_type": "code",
   "execution_count": null,
   "id": "6be1642b-4875-4f08-b216-3582b3972e2c",
   "metadata": {},
   "outputs": [],
   "source": [
    "Draw.MolsToGridImage(molecules[:16], highlightAtomLists=soms, molsPerRow=4)"
   ]
  },
  {
   "cell_type": "markdown",
   "id": "90e65275-d39b-4dc4-98b3-8f4d7896d166",
   "metadata": {},
   "source": [
    "Now, we extract the individual atoms, along with their SOM label."
   ]
  },
  {
   "cell_type": "code",
   "execution_count": null,
   "id": "e4781f68-d46e-43d7-ae64-7a7562d78a43",
   "metadata": {},
   "outputs": [],
   "source": [
    "atoms_and_labels = [\n",
    "    (atom, atom.GetIdx() in soms)\n",
    "    for mol, soms in zip(molecules, soms)\n",
    "    for atom in mol.GetAtoms()\n",
    "]\n",
    "\n",
    "atoms, labels = zip(*atoms_and_labels)"
   ]
  },
  {
   "cell_type": "markdown",
   "id": "7f191c4c-92c8-41f5-92e0-edd01564534b",
   "metadata": {},
   "source": [
    "### RDKit helper function"
   ]
  },
  {
   "cell_type": "code",
   "execution_count": null,
   "id": "f1111c94-4c79-4939-852f-5fb2dddd7f5a",
   "metadata": {},
   "outputs": [],
   "source": [
    "from rdkit.Chem.rdchem import Atom, Mol\n",
    "from rdkit.Chem.rdmolfiles import MolToSmiles"
   ]
  },
  {
   "cell_type": "markdown",
   "id": "fc18195e-c0a2-41e4-a991-7fb89d51fa23",
   "metadata": {},
   "source": [
    "In order to get our atoms into a format that `FAME3R` understands, we define a small helper function.\n",
    "The function converts an RDKit atom into a SMILES string that uses atom mapping information to mark that exact atom."
   ]
  },
  {
   "cell_type": "code",
   "execution_count": null,
   "id": "b3d5aeb1-fe8f-43bb-bac8-6d362fb8878e",
   "metadata": {},
   "outputs": [],
   "source": [
    "def atom_to_marked_smiles(atom: Atom) -> str:\n",
    "    mol = Mol(atom.GetOwningMol())\n",
    "    mol.GetAtomWithIdx(atom.GetIdx()).SetAtomMapNum(1)\n",
    "\n",
    "    return MolToSmiles(mol)"
   ]
  },
  {
   "cell_type": "markdown",
   "id": "e81516f1-659c-4275-bb80-ef37a843bfaf",
   "metadata": {},
   "source": [
    "````{tip}\n",
    "If you are already using [CDPKit](https://cdpkit.org/) in your code, you can directly pass [`Atom`](https://cdpkit.org/cdpl_api_doc/python_api_doc/classCDPL_1_1Chem_1_1Atom.html) instances to {class}`fame3r.FAME3RVectorizer`. This is great for efficiency, as no additional conversions need to be performed. However, you should be aware that [`Atom`](https://cdpkit.org/cdpl_api_doc/python_api_doc/classCDPL_1_1Chem_1_1Atom.html) defines a `__getitem__` method which interferes with normal NumPy array conversion, meaning you will have to pre-allocate an empty NumPy array and assign to it like so:\n",
    "\n",
    "```python\n",
    "atom_array = np.empty((len(atoms), 1), dtype=object)\n",
    "atom_array[:, 0] = atoms\n",
    "```\n",
    "````"
   ]
  },
  {
   "cell_type": "markdown",
   "id": "8deba41d-a72e-4953-b753-f489e506756d",
   "metadata": {},
   "source": [
    "## Training the model"
   ]
  },
  {
   "cell_type": "code",
   "execution_count": null,
   "id": "57ebe4fd-2c35-45e7-ae36-e92c99711c2a",
   "metadata": {},
   "outputs": [],
   "source": [
    "from sklearn.ensemble import RandomForestClassifier\n",
    "from sklearn.pipeline import make_pipeline\n",
    "\n",
    "from fame3r import FAME3RVectorizer"
   ]
  },
  {
   "cell_type": "markdown",
   "id": "3e1d93a7-4fda-468e-b368-1e4cc69c193c",
   "metadata": {},
   "source": [
    "We can use the scikit-learn {class}`sklearn.pipeline.Pipeline` utility to create a simple random forest model and train it on our synthetic dataset.\n",
    "The {class}`fame3r.FAME3RVectorizer` is used to generate the FAME3R descriptors the random forest model is trained on.\n",
    "\n",
    "The hyperparameters chosen are the same as the defaults used in the `fame3r` CLI tool.\n",
    "\n",
    "```{tip}\n",
    "The {class}`fame3r.FAME3RVectorizer` is configurable using various keyword arguments. Look into our API documentation to customize it to your needs.\n",
    "```"
   ]
  },
  {
   "cell_type": "code",
   "execution_count": null,
   "id": "1a7cf6a1-97ed-4b60-9bb5-7df6cae37d4a",
   "metadata": {},
   "outputs": [],
   "source": [
    "model = make_pipeline(\n",
    "    FAME3RVectorizer(input=\"smiles\", radius=5),\n",
    "    RandomForestClassifier(\n",
    "        n_estimators=250,\n",
    "        max_depth=None,\n",
    "        min_samples_split=2,\n",
    "        min_samples_leaf=1,\n",
    "        max_features=\"sqrt\",\n",
    "        class_weight=\"balanced_subsample\",\n",
    "        n_jobs=-1,\n",
    "    ),\n",
    ")"
   ]
  },
  {
   "cell_type": "code",
   "execution_count": null,
   "id": "7321f71f-4355-4889-b1c3-791385c1a8f4",
   "metadata": {},
   "outputs": [],
   "source": [
    "model.fit([[atom_to_marked_smiles(atom)] for atom in atoms], labels)"
   ]
  },
  {
   "cell_type": "markdown",
   "id": "ef7464d5-edfa-48df-bc9d-f330b5a4d3dd",
   "metadata": {},
   "source": [
    "## Making predictions"
   ]
  },
  {
   "cell_type": "code",
   "execution_count": null,
   "id": "f2217594-6898-49da-859c-62aae5852780",
   "metadata": {},
   "outputs": [],
   "source": [
    "from rdkit.Chem import Draw\n",
    "from rdkit.Chem.rdmolfiles import MolFromSmiles"
   ]
  },
  {
   "cell_type": "markdown",
   "id": "8b77c4a4-2d3b-4d5d-bb09-eef78d2ba6c3",
   "metadata": {},
   "source": [
    "We can now use the trained model to make predictions about individiual atoms. \n",
    "\n",
    "For example, consider two atoms in morphine. \n",
    "First, the oxygen of the hydroxyl group attached to C3, and second the quarternary carbon C12."
   ]
  },
  {
   "cell_type": "code",
   "execution_count": null,
   "id": "99fb4e47-d463-41e5-9b60-e14df013d24a",
   "metadata": {},
   "outputs": [],
   "source": [
    "morphine = MolFromSmiles(\"CN1CC[C@]23C4=C5C=CC(O)=C4O[C@H]2[C@@H](O)C=C[C@H]3[C@H]1C5\")"
   ]
  },
  {
   "cell_type": "code",
   "execution_count": null,
   "id": "77a81c6d-8efc-4003-9b39-7b32789b1fbe",
   "metadata": {},
   "outputs": [],
   "source": [
    "Draw.MolToImage(morphine, highlightAtoms=[10, 4])"
   ]
  },
  {
   "cell_type": "markdown",
   "id": "1cdc9e55-f5ae-477f-bf3f-93205be4250e",
   "metadata": {},
   "source": [
    "The model predicts that the considered hydroxyl group would be much more reactive than the quarternary carbon.\n",
    "This matches basic chemical intuition, as well as the known metabolism pathway of opiates."
   ]
  },
  {
   "cell_type": "code",
   "execution_count": null,
   "id": "9b43420e-64ec-44e1-af0f-7ca8121b6e1c",
   "metadata": {},
   "outputs": [],
   "source": [
    "model.predict_proba(\n",
    "    [\n",
    "        [atom_to_marked_smiles(morphine.GetAtomWithIdx(10))],\n",
    "        [atom_to_marked_smiles(morphine.GetAtomWithIdx(4))],\n",
    "    ],\n",
    ")[:, 1]"
   ]
  },
  {
   "cell_type": "markdown",
   "id": "bf7de8df-7d4d-42f6-bc4f-0829480f3129",
   "metadata": {},
   "source": [
    "## Using the FAME score"
   ]
  },
  {
   "cell_type": "code",
   "execution_count": null,
   "id": "8f03ad15-a74f-4bb5-802f-db2fb7443347",
   "metadata": {},
   "outputs": [],
   "source": [
    "from rdkit.Chem import Draw\n",
    "from rdkit.Chem.rdmolfiles import MolFromSmiles\n",
    "from sklearn.pipeline import make_pipeline\n",
    "\n",
    "from fame3r import FAME3RScoreEstimator, FAME3RVectorizer"
   ]
  },
  {
   "cell_type": "markdown",
   "id": "67e45d36-6cce-486e-9fd0-a884af5d8594",
   "metadata": {},
   "source": [
    "The FAME score is a similarity-based applicability domain score. It ranges from 0 to 1 with higher values indicating the considered atom environment is more well-represented in the training data.\n",
    "\n",
    "We train a model for calculating that score based on atoms in the dataset in much the same way as our classification model. Crucially, we only use fingerprint descriptors here, as the FAME score is well-defined only for binary features."
   ]
  },
  {
   "cell_type": "code",
   "execution_count": null,
   "id": "671e194b-389e-4adc-8e64-8bd0ef1b5ed1",
   "metadata": {},
   "outputs": [],
   "source": [
    "applicability_domain = make_pipeline(\n",
    "    FAME3RVectorizer(input=\"smiles\", radius=5, output=[\"fingerprint\"]),\n",
    "    FAME3RScoreEstimator(n_neighbors=3),\n",
    ")"
   ]
  },
  {
   "cell_type": "code",
   "execution_count": null,
   "id": "766e301d-47cd-43c9-b4e0-17a8af398f6c",
   "metadata": {},
   "outputs": [],
   "source": [
    "applicability_domain.fit([[atom_to_marked_smiles(atom)] for atom in atoms], labels)"
   ]
  },
  {
   "cell_type": "markdown",
   "id": "481ab4b9-76d2-4fe2-9524-7608a2c4166d",
   "metadata": {},
   "source": [
    "As an example, we can consider omeprazole. The molecule contains a sulfoxide group, a relatively rare structural feature, as well as an methoxy group, which is very commonly found in our dataset. In addition, the sulfoxide group is in close proximity to a "
   ]
  },
  {
   "cell_type": "code",
   "execution_count": null,
   "id": "54d9f3db-bff1-40eb-82f3-6e161aede668",
   "metadata": {},
   "outputs": [],
   "source": [
    "omeprazole = MolFromSmiles(\"CC1=CN=C(C(=C1OC)C)CS(=O)C2=NC3=C(N2)C=C(C=C3)OC\")"
   ]
  },
  {
   "cell_type": "code",
   "execution_count": null,
   "id": "8840c5bf-4c9d-4c83-b661-9ace9957d599",
   "metadata": {},
   "outputs": [],
   "source": [
    "Draw.MolToImage(omeprazole, highlightAtoms=[11, 23])"
   ]
  },
  {
   "cell_type": "markdown",
   "id": "47710ada-64ac-4c87-b61d-b62fcbf7cc01",
   "metadata": {},
   "source": [
    "As expected, the sulfur atom of the rarer sulfoxide group receives a much lower FAME score than the methyl carbon of the more common ether group."
   ]
  },
  {
   "cell_type": "code",
   "execution_count": null,
   "id": "3cb57b6a-44a4-4137-a543-de400e77bfa6",
   "metadata": {},
   "outputs": [],
   "source": [
    "applicability_domain.predict(\n",
    "    [\n",
    "        [atom_to_marked_smiles(omeprazole.GetAtomWithIdx(11))],\n",
    "        [atom_to_marked_smiles(omeprazole.GetAtomWithIdx(23))],\n",
    "    ],\n",
    ")"
   ]
  }
 ],
 "metadata": {
  "kernelspec": {
   "display_name": "Python 3 (ipykernel)",
   "language": "python",
   "name": "python3"
  },
  "language_info": {
   "codemirror_mode": {
    "name": "ipython",
    "version": 3
   },
   "file_extension": ".py",
   "mimetype": "text/x-python",
   "name": "python",
   "nbconvert_exporter": "python",
   "pygments_lexer": "ipython3",
   "version": "3.13.7"
  }
 },
 "nbformat": 4,
 "nbformat_minor": 5
}
