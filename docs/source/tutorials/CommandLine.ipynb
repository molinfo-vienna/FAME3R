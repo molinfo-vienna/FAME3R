{
 "cells": [
  {
   "cell_type": "markdown",
   "id": "28845ea2-8087-4e43-bff2-6b512a98f5c2",
   "metadata": {},
   "source": [
    "# Using our CLI"
   ]
  },
  {
   "cell_type": "markdown",
   "id": "20cb5a78-2509-405e-85e6-ac86741529e4",
   "metadata": {},
   "source": [
    "In addition to our [API](PythonAPI.ipynb) we provide an easy to use command-line interface (CLI) which can be used to train your own site-of-metabolism (SOM) prediction models and retrieve predictions from them.\n",
    "\n",
    "In this interactive Jupyter notebook, we will walk you through using this tool by creating a new SOM prediction model based on a synthetic dataset. The resulting model is not expected to be useful for real metabolism prediction, but serves as an example for what can be done using our tool. \n",
    "\n",
    "```{tip}\n",
    "To get additional information you can also invoke any subcommand with the `--help` flag. This will show a summary of all supported arguments.\n",
    "```"
   ]
  },
  {
   "cell_type": "markdown",
   "id": "d2553f41-53a5-4fc4-8bc3-dff1281fb7f1",
   "metadata": {},
   "source": [
    "## Building the model"
   ]
  },
  {
   "cell_type": "markdown",
   "id": "5a821bc8-1888-411c-afa9-c364ff3b640b",
   "metadata": {},
   "source": [
    "### Hyperparameter search"
   ]
  },
  {
   "cell_type": "markdown",
   "id": "17f0fbef-a731-468d-974f-59c9aff49645",
   "metadata": {},
   "source": [
    "The `hyperparameters` command allows you to perform cross-validation hyperparameter search for your data using the same setup that was also used in the FAME3R paper. Hyperparameters are exported as JSON.\n",
    "\n",
    "```{note}\n",
    "Hyperparameter optimization is disabled per default in this notebook, as it takes a long time.\n",
    "If you want to perform hyperparameter optimization and use the generated hyperparameters, you can uncomment the next code cell and add `--hyperparameters hyperparameters.json` as an option to the `train` command in the next section.\n",
    "```"
   ]
  },
  {
   "cell_type": "code",
   "execution_count": null,
   "id": "b6511436-6a45-4427-94f0-5a3a4d34f27a",
   "metadata": {},
   "outputs": [],
   "source": [
    "%%bash\n",
    "#fame3r hyperparameters -i data/metatrans_autoannotated_cleaned/train.sdf -o hyperparameters.json"
   ]
  },
  {
   "cell_type": "markdown",
   "id": "a7754649-d89a-4d71-bf47-a0d76bd3791b",
   "metadata": {},
   "source": [
    "### Training"
   ]
  },
  {
   "cell_type": "markdown",
   "id": "97817354-531d-4d4a-9997-a883943b1530",
   "metadata": {},
   "source": [
    "The `train` command is used to train a random forest model for predicting SOMs as well as an auxillary model for predicting the FAME score. Without additional parameters the resulting model will be trained using exactly the same parameters that were also used for the models reported in the FAME3R paper."
   ]
  },
  {
   "cell_type": "code",
   "execution_count": null,
   "id": "5487ba63-897f-4d1b-94e8-c7042715fc38",
   "metadata": {},
   "outputs": [],
   "source": [
    "%%bash\n",
    "fame3r train -i data/metatrans_autoannotated_cleaned/train.sdf -o models"
   ]
  },
  {
   "cell_type": "markdown",
   "id": "a68e2002-7808-496a-9d82-625d19259a00",
   "metadata": {},
   "source": [
    "### Threshold post-tuning"
   ]
  },
  {
   "cell_type": "markdown",
   "id": "ad93c69b-975f-46ec-9f83-79bc4cc87016",
   "metadata": {},
   "source": [
    "The `threshold` command can be used for threshold post-tuning i.e. finding the classification threshold that will result in the most balanced predictions.\n",
    "\n",
    "```{note}\n",
    "Threshold post-tuning is disabled per default in this notebook, as it takes a long time.\n",
    "If you want to perform threshold post-tuning and use the generated threshold, you can uncomment the next code cell and add `--threshold hyperparameters.json` as an option to the `predict` command in the next section.\n",
    "```"
   ]
  },
  {
   "cell_type": "code",
   "execution_count": null,
   "id": "d0d2aa4e-e136-4166-a37c-d18c2a9145be",
   "metadata": {},
   "outputs": [],
   "source": [
    "%%bash\n",
    "#fame3r threshold -i data/metatrans_autoannotated_cleaned/train.sdf -m models/random_forest_classifier.joblib"
   ]
  },
  {
   "cell_type": "markdown",
   "id": "b5560120-4847-4a55-9d65-f44fde42a68a",
   "metadata": {},
   "source": [
    "## Applying the model"
   ]
  },
  {
   "cell_type": "markdown",
   "id": "c7c0cb71-0678-4850-b0ca-ab283a7e264f",
   "metadata": {},
   "source": [
    "### Generating predictions"
   ]
  },
  {
   "cell_type": "markdown",
   "id": "673eb0be-fcf8-4311-aea9-0757045387eb",
   "metadata": {},
   "source": [
    "Now that we have some trained models, the `predict` command can be used to generate predictions, including predicted probabilities and binary predictions based on either the default or a provided threshold. The `--fame-score` flag ensures that FAME scores are also generated for each input atom."
   ]
  },
  {
   "cell_type": "code",
   "execution_count": null,
   "id": "28ecc1b1-4686-46e6-8208-4dcfb1af9b11",
   "metadata": {},
   "outputs": [],
   "source": [
    "%%bash\n",
    "fame3r predict -i data/metatrans_autoannotated_cleaned/test.sdf -m models -o predictions.csv --fame-score"
   ]
  },
  {
   "cell_type": "markdown",
   "id": "dd56472e-e5ec-493b-90fa-f7de9123e3a0",
   "metadata": {},
   "source": [
    "### Calculating metrics"
   ]
  },
  {
   "cell_type": "markdown",
   "id": "5db99dd9-ba9a-4598-9483-bb36a584c017",
   "metadata": {},
   "source": [
    "Given a prediction CSV file generated as seen above, the `metrics` command can then be used to calculate various classification metrics, including the Top-_k_ metric (_k_=2) which is commonly used in metabolism prediction. Metrics are exported as JSON."
   ]
  },
  {
   "cell_type": "code",
   "execution_count": null,
   "id": "cce7652d-e83a-40e5-9301-9dd26dc354ac",
   "metadata": {},
   "outputs": [],
   "source": [
    "%%bash\n",
    "fame3r metrics -i predictions.csv -o metrics.json"
   ]
  },
  {
   "cell_type": "markdown",
   "id": "c5335bb1-b855-4363-acf3-2c196d8d6942",
   "metadata": {},
   "source": [
    "## Using descriptors externally"
   ]
  },
  {
   "cell_type": "markdown",
   "id": "273a887d-8655-4439-b983-af9db2443125",
   "metadata": {},
   "source": [
    "While our Python API can be used to seamlessly integrate our work into your Python-based chemoinformatics workflows, we recognize that other programming and modelling environments exist. To that end, you can use the `descriptors` command to generate FAME3R descriptors in various configurations. The generated descriptors are exported as CSV."
   ]
  },
  {
   "cell_type": "code",
   "execution_count": null,
   "id": "2e9ce936-36d8-432a-ab9d-f8482801e3aa",
   "metadata": {},
   "outputs": [],
   "source": [
    "%%bash\n",
    "fame3r descriptors -i data/metatrans_autoannotated_cleaned/train.sdf -o descriptors.csv"
   ]
  }
 ],
 "metadata": {
  "kernelspec": {
   "display_name": "Python 3 (ipykernel)",
   "language": "python",
   "name": "python3"
  },
  "language_info": {
   "codemirror_mode": {
    "name": "ipython",
    "version": 3
   },
   "file_extension": ".py",
   "mimetype": "text/x-python",
   "name": "python",
   "nbconvert_exporter": "python",
   "pygments_lexer": "ipython3",
   "version": "3.13.7"
  },
  "mystnb": {
   "execution_mode": "off"
  }
 },
 "nbformat": 4,
 "nbformat_minor": 5
}
